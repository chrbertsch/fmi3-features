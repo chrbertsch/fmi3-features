{
 "cells": [
  {
   "cell_type": "code",
   "execution_count": 1,
   "id": "731fd93f",
   "metadata": {},
   "outputs": [
    {
     "data": {
      "text/html": [
       "<style>div.output_area pre { white-space: pre; }</style>\n"
      ],
      "text/plain": [
       "<IPython.core.display.HTML object>"
      ]
     },
     "metadata": {},
     "output_type": "display_data"
    }
   ],
   "source": [
    "%%html\n",
    "<style>div.output_area pre { white-space: pre; }</style>"
   ]
  },
  {
   "cell_type": "code",
   "execution_count": 2,
   "id": "c66854bd",
   "metadata": {},
   "outputs": [
    {
     "name": "stdout",
     "output_type": "stream",
     "text": [
      "fmi3InstantiateModelExchange(instanceName=\"VanDerPol\", instantiationToken=\"{8c4e810f-3da3-4a00-8276-176fa3c9f000}\", resourcePath=\"C:\\Users\\tsr2\\AppData\\Local\\Temp\\tmpkntetovd\\resources\\\", visible=False, loggingOn=False, instanceEnvironment=0x0, logMessage=<CFunctionType object at 0x0000017B9ABC4860>) -> 0x17b96d0ae10\n",
      "fmi3EnterInitializationMode(instance=0x17b96d0ae10, toleranceDefined=False, tolerance=0.0, startTime=0.0, stopTimeDefined=False, stopTime=0.0) -> OK\n",
      "fmi3ExitInitializationMode(instance=0x17b96d0ae10) -> OK\n"
     ]
    }
   ],
   "source": [
    "from fmpy import *\n",
    "\n",
    "\n",
    "fmu_filename = 'Reference-FMUs-0.0.16/3.0/VanDerPol.fmu'\n",
    "\n",
    "from shutil import rmtree\n",
    "\n",
    "from fmpy import *\n",
    "from fmpy.fmi3 import *\n",
    "\n",
    "unzipdir = extract(fmu_filename)\n",
    "\n",
    "model_description = read_model_description(unzipdir)\n",
    "\n",
    "vr = dict((v.name, v.valueReference) for v in model_description.modelVariables)\n",
    "\n",
    "fmu_instance = instantiate_fmu(unzipdir=unzipdir, model_description=model_description, fmi_call_logger=print, fmi_type='ModelExchange')\n",
    "\n",
    "fmu_instance.enterInitializationMode()\n",
    "fmu_instance.exitInitializationMode()"
   ]
  },
  {
   "cell_type": "code",
   "execution_count": 3,
   "id": "2b29ff6f",
   "metadata": {},
   "outputs": [
    {
     "name": "stdout",
     "output_type": "stream",
     "text": [
      "fmi3GetAdjointDerivative(instance=0x17b96d0ae10, unknowns=[1, 3], nUnknowns=2, knowns=[2, 4], nKnowns=2, seed=[1.0, 1.0], nSeed=2, sensitivity=[0.0, 0.0], nSensitivity=2) -> OK\n"
     ]
    },
    {
     "data": {
      "text/plain": [
       "[0.0, 0.0]"
      ]
     },
     "execution_count": 3,
     "metadata": {},
     "output_type": "execute_result"
    }
   ],
   "source": [
    "# get the v^T * J\n",
    "# def getAdjointDerivative(self, unknowns: Sequence[int], knowns: Sequence[int], seed: Sequence[float], nSensitivity: int) -> List[float]:\n",
    "\n",
    "unknowns = [vr['x0'], vr['x1']]\n",
    "knowns = [vr['der(x0)'], vr['der(x1)']]\n",
    "seed = [1, 1]\n",
    "\n",
    "fmu_instance.getAdjointDerivative(unknowns, knowns, seed, len(unknowns))"
   ]
  },
  {
   "cell_type": "code",
   "execution_count": 4,
   "id": "6187ec9a",
   "metadata": {},
   "outputs": [
    {
     "name": "stdout",
     "output_type": "stream",
     "text": [
      "fmi3FreeInstance(instance=0x17b96d0ae10)\n"
     ]
    }
   ],
   "source": [
    "fmu_instance.freeInstance()\n",
    "\n",
    "rmtree(unzipdir)"
   ]
  },
  {
   "cell_type": "code",
   "execution_count": 5,
   "id": "bf081bfa",
   "metadata": {},
   "outputs": [
    {
     "ename": "NameError",
     "evalue": "name 'filename' is not defined",
     "output_type": "error",
     "traceback": [
      "\u001b[1;31m------------------------------------------------------\u001b[0m",
      "\u001b[1;31mNameError\u001b[0m            Traceback (most recent call last)",
      "\u001b[1;32m~\\AppData\\Local\\Temp/ipykernel_17356/1771491638.py\u001b[0m in \u001b[0;36m<module>\u001b[1;34m\u001b[0m\n\u001b[0;32m      1\u001b[0m \u001b[1;32mimport\u001b[0m \u001b[0mplotly\u001b[0m\u001b[1;33m.\u001b[0m\u001b[0mgraph_objects\u001b[0m \u001b[1;32mas\u001b[0m \u001b[0mgo\u001b[0m\u001b[1;33m\u001b[0m\u001b[1;33m\u001b[0m\u001b[0m\n\u001b[0;32m      2\u001b[0m \u001b[1;33m\u001b[0m\u001b[0m\n\u001b[1;32m----> 3\u001b[1;33m \u001b[0mresult\u001b[0m \u001b[1;33m=\u001b[0m \u001b[0msimulate_fmu\u001b[0m\u001b[1;33m(\u001b[0m\u001b[0mfilename\u001b[0m\u001b[1;33m,\u001b[0m \u001b[0mstart_values\u001b[0m\u001b[1;33m=\u001b[0m\u001b[1;33m{\u001b[0m\u001b[1;34m'x0'\u001b[0m\u001b[1;33m:\u001b[0m \u001b[1;36m0\u001b[0m\u001b[1;33m,\u001b[0m \u001b[1;34m'x1'\u001b[0m\u001b[1;33m:\u001b[0m \u001b[1;36m4\u001b[0m\u001b[1;33m}\u001b[0m\u001b[1;33m)\u001b[0m\u001b[1;33m\u001b[0m\u001b[1;33m\u001b[0m\u001b[0m\n\u001b[0m\u001b[0;32m      4\u001b[0m \u001b[1;33m\u001b[0m\u001b[0m\n\u001b[0;32m      5\u001b[0m \u001b[0mfig\u001b[0m \u001b[1;33m=\u001b[0m \u001b[0mgo\u001b[0m\u001b[1;33m.\u001b[0m\u001b[0mFigure\u001b[0m\u001b[1;33m(\u001b[0m\u001b[1;33m)\u001b[0m\u001b[1;33m\u001b[0m\u001b[1;33m\u001b[0m\u001b[0m\n",
      "\u001b[1;31mNameError\u001b[0m: name 'filename' is not defined"
     ]
    }
   ],
   "source": [
    "import plotly.graph_objects as go\n",
    "\n",
    "result = simulate_fmu(filename, start_values={'x0': 0, 'x1': 4})\n",
    "\n",
    "fig = go.Figure()\n",
    "\n",
    "time = result['time']\n",
    "\n",
    "fig.add_trace(go.Scatter(x=result['x0'], y=result['x1']))\n",
    "\n",
    "axes_attrs = dict(showgrid=True, gridwidth=1, ticklen=0, gridcolor='LightGrey', linecolor='black', showline=True, zerolinewidth=1, zerolinecolor='LightGrey')\n",
    "fig.update_xaxes(**axes_attrs) \n",
    "fig.update_yaxes(**axes_attrs)\n",
    "fig.update_layout(margin=dict(t=30, b=0, r=30, l=0), plot_bgcolor='rgba(0,0,0,0)', xaxis_title=\"x0\", yaxis_title=\"x1\")\n",
    "\n",
    "fig.show()"
   ]
  }
 ],
 "metadata": {
  "kernelspec": {
   "display_name": "Python 3 (ipykernel)",
   "language": "python",
   "name": "python3"
  },
  "language_info": {
   "codemirror_mode": {
    "name": "ipython",
    "version": 3
   },
   "file_extension": ".py",
   "mimetype": "text/x-python",
   "name": "python",
   "nbconvert_exporter": "python",
   "pygments_lexer": "ipython3",
   "version": "3.10.0"
  }
 },
 "nbformat": 4,
 "nbformat_minor": 5
}
