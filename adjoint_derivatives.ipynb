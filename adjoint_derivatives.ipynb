{
  "cells": [
    {
      "cell_type": "markdown",
      "metadata": {
        "id": "view-in-github",
        "colab_type": "text"
      },
      "source": [
        "<a href=\"https://colab.research.google.com/github/chrbertsch/fmi3-features/blob/main/adjoint_derivatives.ipynb\" target=\"_parent\"><img src=\"https://colab.research.google.com/assets/colab-badge.svg\" alt=\"Open In Colab\"/></a>"
      ]
    },
    {
      "cell_type": "markdown",
      "id": "55bf95bb-c732-49ad-a1a4-c72edc653beb",
      "metadata": {
        "tags": [],
        "id": "55bf95bb-c732-49ad-a1a4-c72edc653beb"
      },
      "source": [
        "# Adjoint Derivatives\n",
        "\n",
        "This notebook demonstrates how to efficiently retrieve [adjoint derivative](https://fmi-standard.org/docs/3.0/#partial-derivatives) using the `fmi3GetAdjointDerivative()` function introduced in FMI 3.0.\n",
        "We'll use the [Van der Pol oscillator](https://en.wikipedia.org/wiki/Van_der_Pol_oscillator) model from the [Reference FMUs](https://github.com/modelica/Reference-FMUs) that implements the following equation:\n",
        "\n",
        "```\n",
        "der(x0) = x1\n",
        "der(x1) = mu * ((1 - x0 * x0) * x1) - x0\n",
        "```"
      ]
    },
    {
      "cell_type": "code",
      "source": [
        "!uv pip install fmpy[complete] --system\n",
        "!git clone https://github.com/chrbertsch/fmi3-features"
      ],
      "metadata": {
        "id": "qhUlomTT9HSP"
      },
      "id": "qhUlomTT9HSP",
      "execution_count": null,
      "outputs": []
    },
    {
      "cell_type": "code",
      "execution_count": null,
      "id": "19057eae-1433-4c56-b14d-fdf24b4cee42",
      "metadata": {
        "tags": [],
        "id": "19057eae-1433-4c56-b14d-fdf24b4cee42"
      },
      "outputs": [],
      "source": [
        "from fmpy import *\n",
        "from shutil import rmtree\n",
        "import plotly.graph_objects as go\n",
        "import numpy as np\n",
        "\n",
        "\n",
        "fmu_filename = 'fmi3-features/resources/VanDerPol.fmu'\n",
        "\n",
        "# change the start values, so we can see how the states converge\n",
        "result = simulate_fmu(fmu_filename, start_values={'x0': 0, 'x1': 4})\n",
        "\n",
        "fig = go.Figure()\n",
        "\n",
        "# plot the trajectory of the two states\n",
        "fig.add_trace(go.Scatter(x=result['x0'], y=result['x1']))\n",
        "\n",
        "axes_attrs = dict(showgrid=True, gridwidth=1, ticklen=0, gridcolor='LightGrey', linecolor='black', showline=True, zerolinewidth=1, zerolinecolor='LightGrey')\n",
        "fig.update_xaxes(**axes_attrs)\n",
        "fig.update_yaxes(**axes_attrs)\n",
        "fig.update_layout(margin=dict(t=30, b=0, r=30, l=0), plot_bgcolor='rgba(0,0,0,0)', xaxis_title=\"x0\", yaxis_title=\"x1\")\n",
        "\n",
        "fig.show()"
      ]
    },
    {
      "cell_type": "code",
      "execution_count": null,
      "id": "c66854bd",
      "metadata": {
        "tags": [],
        "id": "c66854bd"
      },
      "outputs": [],
      "source": [
        "# extract the FMU\n",
        "unzipdir = extract(fmu_filename)\n",
        "\n",
        "# load the model description\n",
        "model_description = read_model_description(unzipdir)\n",
        "\n",
        "# build a dictionary of (variable_name -> value_reference)\n",
        "vr = dict((v.name, v.valueReference) for v in model_description.modelVariables)\n",
        "\n",
        "# instantiate the FMU\n",
        "fmu_instance = instantiate_fmu(unzipdir=unzipdir,\n",
        "                               model_description=model_description,\n",
        "                               fmi_call_logger=print,     # print FMI calls to the console\n",
        "                               fmi_type='ModelExchange')  # workaround for https://github.com/modelica/Reference-FMUs/issues/245\n",
        "\n",
        "# initialize the FMU instance\n",
        "fmu_instance.enterInitializationMode()\n",
        "fmu_instance.exitInitializationMode()"
      ]
    },
    {
      "cell_type": "code",
      "execution_count": null,
      "id": "c1fe457a",
      "metadata": {
        "id": "c1fe457a"
      },
      "outputs": [],
      "source": [
        "knowns   = [vr['x0'],      vr['x1']     ]  # value references of the continuous states\n",
        "unknowns = [vr['der(x0)'], vr['der(x1)']]  # value references of the continuous state derivatives\n",
        "seed     = [1, 1]                          # dummy seed values (typically provided by algorithm)\n",
        "\n",
        "# create a 2x2 matrix of zeros\n",
        "J = np.zeros((len(knowns), len(knowns)))\n",
        "\n",
        "# construct the Jacobian matrix column wise (FMI 2.0 method)\n",
        "for i, known in enumerate(knowns):\n",
        "    J[:, i] = fmu_instance.getDirectionalDerivative(unknowns, [known], [1])\n",
        "\n",
        "# calculate v^T * J\n",
        "sensitivity = seed @ J\n",
        "\n",
        "sensitivity"
      ]
    },
    {
      "cell_type": "code",
      "execution_count": null,
      "id": "dfd32ebd",
      "metadata": {
        "id": "dfd32ebd"
      },
      "outputs": [],
      "source": [
        "# retrive v^T * J with a single call\n",
        "sensitivity = fmu_instance.getAdjointDerivative(unknowns, knowns, seed)\n",
        "\n",
        "sensitivity"
      ]
    },
    {
      "cell_type": "code",
      "execution_count": null,
      "id": "6187ec9a",
      "metadata": {
        "id": "6187ec9a"
      },
      "outputs": [],
      "source": [
        "# clean up\n",
        "fmu_instance.freeInstance()\n",
        "rmtree(unzipdir)"
      ]
    }
  ],
  "metadata": {
    "kernelspec": {
      "display_name": "Python 3 (ipykernel)",
      "language": "python",
      "name": "python3"
    },
    "language_info": {
      "codemirror_mode": {
        "name": "ipython",
        "version": 3
      },
      "file_extension": ".py",
      "mimetype": "text/x-python",
      "name": "python",
      "nbconvert_exporter": "python",
      "pygments_lexer": "ipython3",
      "version": "3.10.4"
    },
    "colab": {
      "provenance": [],
      "include_colab_link": true
    }
  },
  "nbformat": 4,
  "nbformat_minor": 5
}