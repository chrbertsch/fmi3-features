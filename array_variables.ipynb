{
  "cells": [
    {
      "cell_type": "markdown",
      "metadata": {
        "id": "view-in-github",
        "colab_type": "text"
      },
      "source": [
        "<a href=\"https://colab.research.google.com/github/chrbertsch/fmi3-features/blob/main/array_variables.ipynb\" target=\"_parent\"><img src=\"https://colab.research.google.com/assets/colab-badge.svg\" alt=\"Open In Colab\"/></a>"
      ]
    },
    {
      "cell_type": "markdown",
      "id": "30468ec8-a2d4-4a67-835d-41ed3b078aa0",
      "metadata": {
        "tags": [],
        "id": "30468ec8-a2d4-4a67-835d-41ed3b078aa0"
      },
      "source": [
        "# Array Variables\n",
        "\n",
        "This notebook demonstrates how to access array variables efficiently with FMI 3.0 using the following model exported with [FMI Kit for Simulink](https://github.com/CATIA-Systems/FMIKit-Simulink) as an FMI 2.0 and FMI 3.0 FMU.\n",
        "\n",
        "![](https://github.com/chrbertsch/fmi3-features/blob/main/resources/MatrixMultiply.png?raw=1)"
      ]
    },
    {
      "cell_type": "code",
      "source": [
        "!uv pip install fmpy[complete] --system\n",
        "!git clone https://github.com/chrbertsch/fmi3-features"
      ],
      "metadata": {
        "id": "2DNYiEiK9-YP"
      },
      "id": "2DNYiEiK9-YP",
      "execution_count": null,
      "outputs": []
    },
    {
      "cell_type": "code",
      "execution_count": null,
      "id": "c2d28576",
      "metadata": {
        "id": "c2d28576"
      },
      "outputs": [],
      "source": [
        "from fmpy import *\n",
        "\n",
        "filename = 'fmi3-features/resources/MatrixMultiply2.fmu'  # FMI 2.0\n",
        "\n",
        "# set the start values individually using the structured naming convention\n",
        "start_values = {\n",
        "    'Parameters.A_Value[0,0]': 1,\n",
        "    'Parameters.A_Value[1,0]': 2,\n",
        "    'Parameters.A_Value[0,1]': 3,\n",
        "    'Parameters.A_Value[1,1]': 4,\n",
        "    'Parameters.A_Value[0,2]': 5,\n",
        "    'Parameters.A_Value[1,2]': 6,\n",
        "    'u[0]': 1,\n",
        "    'u[1]': 2,\n",
        "    'u[2]': 3,\n",
        "}\n",
        "\n",
        "# simulate the FMU and log the FMI calls to the console\n",
        "result = simulate_fmu(filename, fmi_call_logger=print, output_interval=1, stop_time=1, start_values=start_values)"
      ]
    },
    {
      "cell_type": "code",
      "execution_count": null,
      "id": "1bc48fe7",
      "metadata": {
        "id": "1bc48fe7"
      },
      "outputs": [],
      "source": [
        "filename = 'fmi3-features/resources/MatrixMultiply3.fmu'  # FMI 3.0\n",
        "\n",
        "# set the start values as arrays\n",
        "start_values = {\n",
        "    'Parameters.A_Value': [1, 2, 3, 4, 5, 6],\n",
        "    'u': [1, 2, 3],\n",
        "}\n",
        "\n",
        "# simulate the FMU and log the FMI calls to the console\n",
        "result = simulate_fmu(filename, fmi_call_logger=print, output_interval=1, stop_time=1, start_values=start_values)"
      ]
    }
  ],
  "metadata": {
    "kernelspec": {
      "display_name": "Python 3 (ipykernel)",
      "language": "python",
      "name": "python3"
    },
    "language_info": {
      "codemirror_mode": {
        "name": "ipython",
        "version": 3
      },
      "file_extension": ".py",
      "mimetype": "text/x-python",
      "name": "python",
      "nbconvert_exporter": "python",
      "pygments_lexer": "ipython3",
      "version": "3.10.4"
    },
    "colab": {
      "provenance": [],
      "include_colab_link": true
    }
  },
  "nbformat": 4,
  "nbformat_minor": 5
}