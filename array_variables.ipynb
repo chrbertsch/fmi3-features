{
 "cells": [
  {
   "cell_type": "code",
   "execution_count": 1,
   "id": "69c65e37",
   "metadata": {},
   "outputs": [],
   "source": [
    "from fmpy import *"
   ]
  },
  {
   "cell_type": "markdown",
   "id": "842facfb",
   "metadata": {},
   "source": [
    "![](MatrixMultiply.png)"
   ]
  },
  {
   "cell_type": "code",
   "execution_count": 2,
   "id": "c2d28576",
   "metadata": {},
   "outputs": [
    {
     "name": "stdout",
     "output_type": "stream",
     "text": [
      "fmi2Instantiate(instanceName=\"feedthrough\", fmuType=1, guid=\"{8b212b20-55fb-4915-959e-8471b8a8f148}\", resourceLocation=\"file:///C:/Users/tsr2/AppData/Local/Temp/tmpifsadcg3/resources\", callbacks=<fmpy.fmi2.fmi2CallbackFunctions object at 0x000001B45E709540>, visible=0, loggingOn=0) -> 0x1b45dc91680\n",
      "fmi2SetupExperiment(component=0x1b45dc91680, toleranceDefined=0, tolerance=0.0, startTime=0.0, stopTimeDefined=1, stopTime=1.0) -> OK\n",
      "fmi2SetReal(component=0x1b45dc91680, vr=[1], nvr=1, value=[1.0]) -> OK\n",
      "fmi2SetReal(component=0x1b45dc91680, vr=[2], nvr=1, value=[2.0]) -> OK\n",
      "fmi2SetReal(component=0x1b45dc91680, vr=[3], nvr=1, value=[3.0]) -> OK\n",
      "fmi2SetReal(component=0x1b45dc91680, vr=[4], nvr=1, value=[4.0]) -> OK\n",
      "fmi2SetReal(component=0x1b45dc91680, vr=[5], nvr=1, value=[5.0]) -> OK\n",
      "fmi2SetReal(component=0x1b45dc91680, vr=[6], nvr=1, value=[6.0]) -> OK\n",
      "fmi2EnterInitializationMode(component=0x1b45dc91680) -> OK\n",
      "fmi2SetReal(component=0x1b45dc91680, vr=[7], nvr=1, value=[1.0]) -> OK\n",
      "fmi2SetReal(component=0x1b45dc91680, vr=[8], nvr=1, value=[2.0]) -> OK\n",
      "fmi2SetReal(component=0x1b45dc91680, vr=[9], nvr=1, value=[3.0]) -> OK\n",
      "fmi2ExitInitializationMode(component=0x1b45dc91680) -> OK\n",
      "fmi2GetReal(component=0x1b45dc91680, vr=[10, 11], nvr=2, value=[22.0, 28.0]) -> OK\n",
      "fmi2DoStep(component=0x1b45dc91680, currentCommunicationPoint=0.0, communicationStepSize=1, noSetFMUStatePriorToCurrentPoint=1) -> OK\n",
      "fmi2GetReal(component=0x1b45dc91680, vr=[10, 11], nvr=2, value=[22.0, 28.0]) -> OK\n",
      "fmi2Terminate(component=0x1b45dc91680) -> OK\n",
      "fmi2FreeInstance(component=0x1b45dc91680)\n"
     ]
    },
    {
     "data": {
      "text/plain": [
       "SimulationResult([(0., 22., 28.), (1., 22., 28.)],\n",
       "                 dtype=[('time', '<f8'), ('y[0]', '<f8'), ('y[1]', '<f8')])"
      ]
     },
     "execution_count": 2,
     "metadata": {},
     "output_type": "execute_result"
    }
   ],
   "source": [
    "filename = 'feedthrough.fmu'\n",
    "\n",
    "start_values = {\n",
    "    'Parameters.A_Value[0,0]': 1, \n",
    "    'Parameters.A_Value[1,0]': 2, \n",
    "    'Parameters.A_Value[0,1]': 3, \n",
    "    'Parameters.A_Value[1,1]': 4, \n",
    "    'Parameters.A_Value[0,2]': 5, \n",
    "    'Parameters.A_Value[1,2]': 6,\n",
    "    'u[0]': 1, \n",
    "    'u[1]': 2, \n",
    "    'u[2]': 3, \n",
    "}\n",
    "\n",
    "simulate_fmu(filename, fmi_call_logger=print, output_interval=1, stop_time=1, start_values=start_values)"
   ]
  },
  {
   "cell_type": "code",
   "execution_count": 3,
   "id": "1bc48fe7",
   "metadata": {},
   "outputs": [
    {
     "name": "stdout",
     "output_type": "stream",
     "text": [
      "fmi3InstantiateCoSimulation(instanceName=\"MatrixMultiply\", instantiationToken=\"{48a97991-3c4e-4638-a5a1-89f33a9284d1}\", resourcePath=\"C:\\Users\\tsr2\\AppData\\Local\\Temp\\tmpiazqw0u8\\resources\\\", visible=False, loggingOn=False, eventModeUsed=False, earlyReturnAllowed=False, requiredIntermediateVariables=NULL, nRequiredIntermediateVariables=0, instanceEnvironment=0x0, logMessage=<CFunctionType object at 0x000001B45FB9B030>, intermediateUpdate=<CFunctionType object at 0x000001B45FB9B100>) -> 0x1b45da95b70\n",
      "fmi3SetFloat64(instance=0x1b45da95b70, valueReferences=[1], nValueReferences=1, values=[1.0, 2.0, 3.0, 4.0, 5.0, 6.0], nValues=6) -> OK\n",
      "fmi3EnterInitializationMode(instance=0x1b45da95b70, toleranceDefined=False, tolerance=0.0, startTime=0.0, stopTimeDefined=True, stopTime=1.0) -> OK\n",
      "fmi3SetFloat64(instance=0x1b45da95b70, valueReferences=[2], nValueReferences=1, values=[1.0, 2.0, 3.0], nValues=3) -> OK\n",
      "fmi3ExitInitializationMode(instance=0x1b45da95b70) -> OK\n",
      "fmi3GetFloat64(instance=0x1b45da95b70, valueReferences=[3], nValueReferences=1, values=[22.0, 28.0], nValues=2) -> OK\n",
      "fmi3DoStep(instance=0x1b45da95b70, currentCommunicationPoint=0.0, communicationStepSize=1.0, noSetFMUStatePriorToCurrentPoint=True, eventHandlingNeeded=False, terminateSimulation=False, earlyReturn=False, lastSuccessfulTime=1.0) -> OK\n",
      "fmi3GetFloat64(instance=0x1b45da95b70, valueReferences=[3], nValueReferences=1, values=[22.0, 28.0], nValues=2) -> OK\n",
      "fmi3Terminate(instance=0x1b45da95b70) -> OK\n",
      "fmi3FreeInstance(instance=0x1b45da95b70)\n"
     ]
    },
    {
     "data": {
      "text/plain": [
       "SimulationResult([(0., [22., 28.]), (1., [22., 28.])],\n",
       "                 dtype=[('time', '<f8'), ('y', '<f8', (2,))])"
      ]
     },
     "execution_count": 3,
     "metadata": {},
     "output_type": "execute_result"
    }
   ],
   "source": [
    "filename = 'MatrixMultiply.fmu'\n",
    "\n",
    "start_values = {\n",
    "    'Parameters.A_Value': [1, 2, 3, 4, 5, 6],\n",
    "    'u': [1, 2, 3],\n",
    "}\n",
    "\n",
    "simulate_fmu(filename, fmi_call_logger=print, output_interval=1, stop_time=1, start_values=start_values)"
   ]
  },
  {
   "cell_type": "code",
   "execution_count": null,
   "id": "8f15bd65",
   "metadata": {},
   "outputs": [],
   "source": []
  }
 ],
 "metadata": {
  "kernelspec": {
   "display_name": "Python 3 (ipykernel)",
   "language": "python",
   "name": "python3"
  },
  "language_info": {
   "codemirror_mode": {
    "name": "ipython",
    "version": 3
   },
   "file_extension": ".py",
   "mimetype": "text/x-python",
   "name": "python",
   "nbconvert_exporter": "python",
   "pygments_lexer": "ipython3",
   "version": "3.10.0"
  }
 },
 "nbformat": 4,
 "nbformat_minor": 5
}
