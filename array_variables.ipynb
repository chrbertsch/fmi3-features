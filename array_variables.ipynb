{
 "cells": [
  {
   "cell_type": "markdown",
   "id": "30468ec8-a2d4-4a67-835d-41ed3b078aa0",
   "metadata": {
    "tags": []
   },
   "source": [
    "# Array Variables\n",
    "\n",
    "This notebook demonstrates how to access array variables efficiently with FMI 3.0 using the following model exported with [FMI Kit for Simulink](https://github.com/CATIA-Systems/FMIKit-Simulink) as an FMI 2.0 and FMI 3.0 FMU. \n",
    "\n",
    "![](MatrixMultiply.png)"
   ]
  },
  {
   "cell_type": "code",
   "execution_count": 1,
   "id": "c2d28576",
   "metadata": {},
   "outputs": [
    {
     "name": "stdout",
     "output_type": "stream",
     "text": [
      "fmi2Instantiate(instanceName=\"MatrixMultiply\", fmuType=1, guid=\"{9bf8f030-91c7-4443-bd1c-a0a6a432c89b}\", resourceLocation=\"file:///C:/Users/tsr2/AppData/Local/Temp/tmpsbb8we5a/resources\", callbacks=<fmpy.fmi2.fmi2CallbackFunctions object at 0x0000015C09BADC40>, visible=0, loggingOn=0) -> 0x15c0914bc00\n",
      "fmi2SetupExperiment(component=0x15c0914bc00, toleranceDefined=0, tolerance=0.0, startTime=0.0, stopTimeDefined=1, stopTime=1.0) -> OK\n",
      "fmi2SetReal(component=0x15c0914bc00, vr=[1], nvr=1, value=[1.0]) -> OK\n",
      "fmi2SetReal(component=0x15c0914bc00, vr=[2], nvr=1, value=[2.0]) -> OK\n",
      "fmi2SetReal(component=0x15c0914bc00, vr=[3], nvr=1, value=[3.0]) -> OK\n",
      "fmi2SetReal(component=0x15c0914bc00, vr=[4], nvr=1, value=[4.0]) -> OK\n",
      "fmi2SetReal(component=0x15c0914bc00, vr=[5], nvr=1, value=[5.0]) -> OK\n",
      "fmi2SetReal(component=0x15c0914bc00, vr=[6], nvr=1, value=[6.0]) -> OK\n",
      "fmi2EnterInitializationMode(component=0x15c0914bc00) -> OK\n",
      "fmi2SetReal(component=0x15c0914bc00, vr=[7], nvr=1, value=[1.0]) -> OK\n",
      "fmi2SetReal(component=0x15c0914bc00, vr=[8], nvr=1, value=[2.0]) -> OK\n",
      "fmi2SetReal(component=0x15c0914bc00, vr=[9], nvr=1, value=[3.0]) -> OK\n",
      "fmi2ExitInitializationMode(component=0x15c0914bc00) -> OK\n",
      "fmi2GetReal(component=0x15c0914bc00, vr=[10, 11], nvr=2, value=[22.0, 28.0]) -> OK\n",
      "fmi2DoStep(component=0x15c0914bc00, currentCommunicationPoint=0.0, communicationStepSize=1, noSetFMUStatePriorToCurrentPoint=1) -> OK\n",
      "fmi2GetReal(component=0x15c0914bc00, vr=[10, 11], nvr=2, value=[22.0, 28.0]) -> OK\n",
      "fmi2Terminate(component=0x15c0914bc00) -> OK\n",
      "fmi2FreeInstance(component=0x15c0914bc00)\n"
     ]
    }
   ],
   "source": [
    "from fmpy import *\n",
    "\n",
    "filename = 'MatrixMultiply2.fmu'  # FMI 2.0\n",
    "\n",
    "# set the start values individually using the structured naming convention\n",
    "start_values = {\n",
    "    'Parameters.A_Value[0,0]': 1, \n",
    "    'Parameters.A_Value[1,0]': 2, \n",
    "    'Parameters.A_Value[0,1]': 3, \n",
    "    'Parameters.A_Value[1,1]': 4, \n",
    "    'Parameters.A_Value[0,2]': 5, \n",
    "    'Parameters.A_Value[1,2]': 6,\n",
    "    'u[0]': 1, \n",
    "    'u[1]': 2, \n",
    "    'u[2]': 3, \n",
    "}\n",
    "\n",
    "# simulate the FMU and log the FMI calls to the console\n",
    "result = simulate_fmu(filename, fmi_call_logger=print, output_interval=1, stop_time=1, start_values=start_values)"
   ]
  },
  {
   "cell_type": "code",
   "execution_count": 2,
   "id": "1bc48fe7",
   "metadata": {},
   "outputs": [
    {
     "name": "stdout",
     "output_type": "stream",
     "text": [
      "fmi3InstantiateCoSimulation(instanceName=\"MatrixMultiply\", instantiationToken=\"{48a97991-3c4e-4638-a5a1-89f33a9284d1}\", resourcePath=\"C:\\Users\\tsr2\\AppData\\Local\\Temp\\tmpoq0_ek3o\\resources\\\", visible=False, loggingOn=False, eventModeUsed=False, earlyReturnAllowed=False, requiredIntermediateVariables=NULL, nRequiredIntermediateVariables=0, instanceEnvironment=0x0, logMessage=<CFunctionType object at 0x0000015C0B086F60>, intermediateUpdate=<CFunctionType object at 0x0000015C0B087030>) -> 0x15c08f94340\n",
      "fmi3SetFloat64(instance=0x15c08f94340, valueReferences=[1], nValueReferences=1, values=[1.0, 2.0, 3.0, 4.0, 5.0, 6.0], nValues=6) -> OK\n",
      "fmi3EnterInitializationMode(instance=0x15c08f94340, toleranceDefined=False, tolerance=0.0, startTime=0.0, stopTimeDefined=True, stopTime=1.0) -> OK\n",
      "fmi3SetFloat64(instance=0x15c08f94340, valueReferences=[2], nValueReferences=1, values=[1.0, 2.0, 3.0], nValues=3) -> OK\n",
      "fmi3ExitInitializationMode(instance=0x15c08f94340) -> OK\n",
      "fmi3GetFloat64(instance=0x15c08f94340, valueReferences=[3], nValueReferences=1, values=[22.0, 28.0], nValues=2) -> OK\n",
      "fmi3DoStep(instance=0x15c08f94340, currentCommunicationPoint=0.0, communicationStepSize=1.0, noSetFMUStatePriorToCurrentPoint=True, eventHandlingNeeded=False, terminateSimulation=False, earlyReturn=False, lastSuccessfulTime=1.0) -> OK\n",
      "fmi3GetFloat64(instance=0x15c08f94340, valueReferences=[3], nValueReferences=1, values=[22.0, 28.0], nValues=2) -> OK\n",
      "fmi3Terminate(instance=0x15c08f94340) -> OK\n",
      "fmi3FreeInstance(instance=0x15c08f94340)\n"
     ]
    }
   ],
   "source": [
    "filename = 'MatrixMultiply3.fmu'  # FMI 3.0\n",
    "\n",
    "# set the start values as arrays\n",
    "start_values = {\n",
    "    'Parameters.A_Value': [1, 2, 3, 4, 5, 6],\n",
    "    'u': [1, 2, 3],\n",
    "}\n",
    "\n",
    "# simulate the FMU and log the FMI calls to the console\n",
    "result = simulate_fmu(filename, fmi_call_logger=print, output_interval=1, stop_time=1, start_values=start_values)"
   ]
  }
 ],
 "metadata": {
  "kernelspec": {
   "display_name": "Python 3 (ipykernel)",
   "language": "python",
   "name": "python3"
  },
  "language_info": {
   "codemirror_mode": {
    "name": "ipython",
    "version": 3
   },
   "file_extension": ".py",
   "mimetype": "text/x-python",
   "name": "python",
   "nbconvert_exporter": "python",
   "pygments_lexer": "ipython3",
   "version": "3.10.0"
  }
 },
 "nbformat": 4,
 "nbformat_minor": 5
}
